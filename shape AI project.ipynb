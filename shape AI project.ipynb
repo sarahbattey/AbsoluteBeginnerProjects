{
  "nbformat": 4,
  "nbformat_minor": 0,
  "metadata": {
    "colab": {
      "name": "Untitled1.ipynb",
      "provenance": [],
      "authorship_tag": "ABX9TyPHLfhN7N9ef9uo2aQCDDqW"
    },
    "kernelspec": {
      "name": "python3",
      "display_name": "Python 3"
    },
    "language_info": {
      "name": "python"
    }
  },
  "cells": [
    {
      "cell_type": "code",
      "metadata": {
        "colab": {
          "base_uri": "https://localhost:8080/"
        },
        "id": "Alfv8AfqFb-V",
        "outputId": "c00f74b2-2be4-4ef2-b90e-16f4991d3724"
      },
      "source": [
        "import requests\n",
        "#import os\n",
        "from datetime import datetime\n",
        "#used your api key in openwheathermap.org\n",
        "api_key = '93d5a93c6bbe4bcc898b8412d33465af'\n",
        "location = input(\"Enter the city name: \")\n",
        "\n",
        "complete_api_link = \"https://api.openweathermap.org/data/2.5/weather?q=\"+location+\"&appid=\"+api_key\n",
        "api_link = requests.get(complete_api_link)\n",
        "api_data = api_link.json()\n",
        "\n",
        "#create variables to store and display data\n",
        "temp_city = ((api_data['main']['temp']) - 273.15) #using\"-273.15\" because of change temperature inn degree Celsius\n",
        "weather_desc = api_data['weather'][0]['description']\n",
        "hmdt = api_data['main']['humidity']\n",
        "wind_spd = api_data['wind']['speed']\n",
        "date_time = datetime.now().strftime(\"%d %b %Y | %I:%M:%S %p\")\n",
        "\n",
        "print (\"-------------------------------------------------------------\")\n",
        "print (\"Weather Stats for - {}  || {}\".format(location.upper(), date_time))\n",
        "print (\"-------------------------------------------------------------\")\n",
        "\n",
        "print (\"Current temperature is: {:.2f} deg C\".format(temp_city))\n",
        "print (\"Current weather desc  :\",weather_desc)\n",
        "print (\"Current Humidity      :\",hmdt, '%')\n",
        "print (\"Current wind speed    :\",wind_spd ,'kmph')\n",
        "\n"
      ],
      "execution_count": 3,
      "outputs": [
        {
          "output_type": "stream",
          "text": [
            "Enter the city name: pune\n",
            "-------------------------------------------------------------\n",
            "Weather Stats for - PUNE  || 23 Jun 2021 | 04:21:57 AM\n",
            "-------------------------------------------------------------\n",
            "Current temperature is: 26.13 deg C\n",
            "Current weather desc  : overcast clouds\n",
            "Current Humidity      : 70 %\n",
            "Current wind speed    : 4.29 kmph\n"
          ],
          "name": "stdout"
        }
      ]
    }
  ]
}